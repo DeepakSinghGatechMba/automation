{
  "nbformat": 4,
  "nbformat_minor": 0,
  "metadata": {
    "colab": {
      "name": "calculate similarity between two or more lists.ipynb",
      "provenance": []
    },
    "kernelspec": {
      "name": "python3",
      "display_name": "Python 3"
    },
    "language_info": {
      "name": "python"
    }
  },
  "cells": [
    {
      "cell_type": "code",
      "execution_count": null,
      "metadata": {
        "colab": {
          "base_uri": "https://localhost:8080/"
        },
        "id": "wDK41WN_nWF1",
        "outputId": "2a7e48c9-5a30-4de0-b4b5-25993d4609bd"
      },
      "outputs": [
        {
          "output_type": "stream",
          "name": "stdout",
          "text": [
            "Requirement already satisfied: python-Levenshtein in /usr/local/lib/python3.7/dist-packages (0.12.2)\n",
            "Requirement already satisfied: setuptools in /usr/local/lib/python3.7/dist-packages (from python-Levenshtein) (57.4.0)\n"
          ]
        },
        {
          "output_type": "execute_result",
          "data": {
            "text/plain": [
              "2"
            ]
          },
          "metadata": {},
          "execution_count": 2
        }
      ],
      "source": [
        "!pip install python-Levenshtein\n",
        "from Levenshtein import distance as lev\n",
        "#calculate Levenshtein distance\n",
        "lev('party', 'park') #2 "
      ]
    },
    {
      "cell_type": "code",
      "source": [
        "from google.colab import drive\n",
        "drive.mount('/content/gdrive')\n",
        "source = \"/content/gdrive/MyDrive/Colab Notebooks/filename.xlsx\""
      ],
      "metadata": {
        "id": "QMZf2ZMqnsMf"
      },
      "execution_count": null,
      "outputs": []
    },
    {
      "cell_type": "code",
      "source": [
        "import pandas as pd\n",
        "\n",
        "#create address list 1 in form of df1\n",
        "data1 = pd.read_excel (source, sheet_name='sheet1')\n",
        "df1= pd.DataFrame(data1, dtype=str)\n",
        "df1['Concatenated'] = df1['Address 1']  + \" \" + df1['City'] + \" \" + df1['State'] + \" \" +  df1['Zip'] \n",
        "# df1['State'] + \" \" +  df1['Zip'] #.astype(str) # combine 2 columns in pandas dataframe with one column data type as number\n",
        "df1['Concatenated'] = df1['Concatenated'].str.upper() # convert a column to text and upper case\n",
        "print('Shape : ',  df1.shape) # (no of rows, no of columns)\n",
        "print(df1.info()) #\n",
        "df1.iloc[:,6:].head(5)\n",
        "#df1[['Address 1', 'City']] # access using column names - displays all rows for columns 'Address 1' & 'City'\n",
        "#df2 = df.loc[:,'Fee':'Discount'] # Select columns between two columns\n",
        "#df1.iloc[:, :2] # access using column numbers ---- df1.iloc[:,:a] displays all rows & column 0 to column number a-1 \n",
        "\n",
        "#create address list 2 in form of df2\n",
        "data2 = pd.read_excel (source, sheet_name='sheet2')\n",
        "df2= pd.DataFrame(data2, dtype=str)\n",
        "df2['Concatenated'] = df2['Address 1']  + \" \" + df2['City']  + \" \" + df2['State'] + \" \" +  df2['Zip']\n",
        "df2['Concatenated'] = df2['Concatenated'].str.upper()\n",
        "df2['Results'] = 0\n",
        "df2['Levdistance'] = -1\n",
        "df2['SourceTab'] = \" \"\n",
        "my_cols_list = ['Company1', 'Type1', 'Speed1','Pricing1','Company2', 'Type2', 'Speed2','Pricing3','Company3', 'Type3', 'Speed3','Pricing3']\n",
        "df2 = df2.reindex(columns=[*df2.columns.tolist(), *my_cols_list], fill_value= ' ') # don't want to rewrite the name of the old columns, then use reindex\n",
        "print('Shape : ',  df2.shape)\n",
        "df2.iloc[:,6:].head(5)\n",
        "#df2.iloc[:, 12:]\n",
        "\n",
        "#create address list 3 in form of df3\n",
        "data3 = pd.read_excel (source, sheet_name='sheet3')\n",
        "df3= pd.DataFrame(data3, dtype=str)\n",
        "df3['Concatenated'] = df3['Address 1'] + \" \" + df3['City']  + \" \" + df3['State'] + \" \" +  df3['Zip']\n",
        "df3['Concatenated'] = df3['Concatenated'].str.upper()\n",
        "print('Shape : ',  df3.shape)\n",
        "df3.iloc[:,6:].head(5)\n",
        "\n",
        "#print(df2['Concatenated'][2], df1['Concatenated'][9])"
      ],
      "metadata": {
        "id": "FZ61XnHWny7o"
      },
      "execution_count": null,
      "outputs": []
    },
    {
      "cell_type": "code",
      "source": [
        "import numpy as np\n",
        "#select non-adjacent columns by column numbers use np.r_ to combine slices\n",
        "res = df1.iloc[:, np.r_[0, 6:18]] # 'PQ Site ID'\t'Company1' 'Type1' 'Speed1' 'Pricing1' 'Company2' 'Type2' 'Speed2' 'Pricing3' 'Company3' 'Type3' 'Speed3' 'Pricing3'\n",
        "#res"
      ],
      "metadata": {
        "id": "fuL3GZzho7In"
      },
      "execution_count": null,
      "outputs": []
    },
    {
      "cell_type": "code",
      "source": [
        "#find addresses from list 2 in list 1 - find df2 addresses in df1\n",
        "for i in range (0, len(df2)):#3):\n",
        "  find = df2['Concatenated'][i]\n",
        "  #print (find)\n",
        "  pos = -1\n",
        "  f_levdis= 0\n",
        "  for j in range (0, len(df1)):\n",
        "    levdis = 0\n",
        "    biglist = df1['Concatenated'][j]\n",
        "    levdis = lev(find, biglist)\n",
        "    #print (\"lev distance =\", levdis , \" \", \"index in biglist =\", j)\n",
        "    if levdis == 0:\n",
        "      pos = j\n",
        "      break\n",
        "    elif levdis <= 9:\n",
        "      pos = j\n",
        "      f_levdis = levdis\n",
        "  if (pos >= 0):\n",
        "    #print (\"Position is =\", pos)\n",
        "    df2['Results'][i] = df1['PQ Site ID'][pos]\n",
        "    df2['Levdistance'][i]= f_levdis\n",
        "    df2['SourceTab'][i] = 'sheet1'\n",
        "    for k in range (13,25): # range(a,b) goes from a to b-1   range(3, 6) goes from 3,4,5\n",
        "      df2.iloc[i,k] = df1.iloc[pos,k-7]\n",
        "\n",
        "df2.iloc[:,12:]\n",
        "#df2 = pd.merge(df2, df1.iloc[:, np.r_[0, 6:18]], left_on='Results', right_on='PQ Site ID', how='left') # merge df2 and df1,shared key for merging exists in left_on in left df & right_on in right df. how identifies join type - LEFT, RIGHT, OUTER, INNER \n",
        "#if need to merge on mutiple columns use on=['State', 'Month'], note column names for on= should be common in both data frames"
      ],
      "metadata": {
        "id": "d01X_D3UpMZY"
      },
      "execution_count": null,
      "outputs": []
    },
    {
      "cell_type": "code",
      "source": [
        "#find addresses from list 2 in list 3 - find df2 addresses in df3\n",
        "for i in range (0, len(df2)):#3):\n",
        "  if (df2['Results'][i] == 0):\n",
        "    #print (\"entering loop for i value =\", i)\n",
        "    find = df2['Concatenated'][i]\n",
        "    #print (find)\n",
        "    pos = -1\n",
        "    f_levdis= 0\n",
        "    for j in range (0, len(df3)):\n",
        "      levdis = 0\n",
        "      biglist = df3['Concatenated'][j]\n",
        "      levdis = lev(find, biglist)\n",
        "      #print (\"lev distance =\", levdis , \" \", \"index in biglist =\", j)\n",
        "      if levdis == 0:\n",
        "        pos = j\n",
        "        break\n",
        "      elif levdis <= 9:\n",
        "        pos = j\n",
        "        f_levdis = levdis\n",
        "    if (pos >= 0):\n",
        "      #print (\"Position is =\", pos)\n",
        "      df2['Results'][i] = df3['PQ Site ID'][pos]\n",
        "      df2['Levdistance'][i]= f_levdis\n",
        "      df2['SourceTab'][i] = 'sheet3'\n",
        "      for k in range (13,25): # range(a,b) goes from a to b-1\n",
        "        df2.iloc[i,k] = df3.iloc[pos,k-7]\n",
        "\n",
        "df2.iloc[:,12:]"
      ],
      "metadata": {
        "id": "wEDUBYaHpgEQ"
      },
      "execution_count": null,
      "outputs": []
    },
    {
      "cell_type": "code",
      "source": [
        "df2.loc[df2['Results'] == 0]"
      ],
      "metadata": {
        "id": "vJbB_RBRpxBG"
      },
      "execution_count": null,
      "outputs": []
    },
    {
      "cell_type": "code",
      "source": [
        "destination = \"/content/gdrive/MyDrive/Colab Notebooks/merged.xlsx\"  \n",
        "# saving the excel\n",
        "df2.to_excel(destination)\n",
        "print('DataFrame is written to Excel File successfully.')"
      ],
      "metadata": {
        "id": "kDyQkldypzSz"
      },
      "execution_count": null,
      "outputs": []
    }
  ]
}