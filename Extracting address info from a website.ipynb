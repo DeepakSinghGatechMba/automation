{
  "cells": [
    {
      "cell_type": "code",
      "source": [
        "#install required dependencies\n",
        "!pip install selenium\n",
        "!apt-get update \n",
        "!apt install chromium-chromedriver\n",
        "\n",
        "#import selenium related packages\n",
        "from selenium import webdriver\n",
        "from selenium.webdriver.common.by import By\n",
        "from selenium.webdriver.support.ui import WebDriverWait\n",
        "from selenium.webdriver.support import expected_conditions as EC\n",
        "from selenium.common.exceptions import TimeoutException\n",
        "from selenium.common import exceptions\n",
        "from selenium.common.exceptions import NoSuchElementException\n",
        "\n",
        "import time\n",
        "import pandas as pd\n",
        "import regex as re\n"
      ],
      "metadata": {
        "id": "xLjK2k5u8JxW"
      },
      "execution_count": null,
      "outputs": []
    },
    {
      "cell_type": "code",
      "execution_count": 79,
      "metadata": {
        "id": "kjbvhe307Y2W"
      },
      "outputs": [],
      "source": [
        "#function to load web driver for chrome\n",
        "def load_driver(url):\n",
        "  chrome_options = webdriver.ChromeOptions()\n",
        "  chrome_options.add_argument('--headless')\n",
        "  chrome_options.add_argument('--no-sandbox')\n",
        "  chrome_options.add_argument('--disable-dev-shm-usage')\n",
        "  driver = webdriver.Chrome('chromedriver',chrome_options=chrome_options)\n",
        "  driver.get(url)\n",
        "  return (driver)"
      ]
    },
    {
      "cell_type": "code",
      "source": [
        "url = 'https://locations.brand.com/' #url of the webpage of the brand with location details \n",
        "driver = load_driver(url)\n",
        "driver1 = load_driver(url)\n",
        "driver2 = load_driver(url)\n",
        "driver3 = load_driver(url)\n",
        "driver4 = load_driver(url)\n",
        "\n",
        "df = pd.DataFrame(columns = ['Address'])\n",
        "\n",
        "#class_div = 'Directory-content'\n",
        "#class_div = 'Directory-listLink Link--directory'\n",
        "class_div_statecount= 'Directory-listItem'         # no of states brand available  \n",
        "class_div_stateurl= \".Directory-listItem [href]\"   # url for specific state \n",
        "\n",
        "elems = driver.find_elements_by_class_name(class_div_statecount)\n",
        "stateno = len(elems)\n",
        "print(\"number of states brand present =\",stateno)\n",
        "\n",
        "elems = driver.find_elements_by_css_selector(class_div_stateurl)\n",
        "print(\"url for the \", stateno, \"state is\", elems[stateno-1].get_attribute('href'))\n",
        "\n",
        "webdriverwaittime = 2 #gen 5\n",
        "delay = 2             #gen 10\n",
        "\n",
        "#function chaining start here\n",
        "all_state_page_parse(driver,webdriverwaittime)\n",
        "\n",
        "final_df = pd.DataFrame(columns = ['Street Address', 'Street Number','City','State', 'ZipCode'])\n",
        "\n",
        "#create a df in required format\n",
        "create_finaldf(final_df,df)\n",
        "\n",
        "#save to excel file\n",
        "from google.colab import drive\n",
        "drive.mount('/content/gdrive')\n",
        "source = \"/content/gdrive/MyDrive/Colab Notebooks/BrandList.xlsx\"\n",
        "from datetime import datetime\n",
        "writer = pd.ExcelWriter(source) #.format(datetime.today().strftime('%y%m%d-%H%M%S'))) \n",
        "final_df.to_excel(writer,'sitelist')\n",
        "#df.to_excel(writer,'Pass1')\n",
        "writer.save()"
      ],
      "metadata": {
        "id": "sp_qhxWmKZuf"
      },
      "execution_count": null,
      "outputs": []
    },
    {
      "cell_type": "code",
      "execution_count": 80,
      "metadata": {
        "id": "O1_3mk9Y7Y2X"
      },
      "outputs": [],
      "source": [
        "#function finds if the webpage has a nearby locations section        \n",
        "def check_element_exists_by_class(driver):\n",
        "    try:\n",
        "        driver.find_element_by_class_name(\"c-nearby-locations-cta-wrapper\")\n",
        "        return True\n",
        "    except NoSuchElementException:\n",
        "        return False"
      ]
    },
    {
      "cell_type": "code",
      "source": [
        "#function finds store address by parsing city level urls\n",
        "def parse_city_links(url,webdriverwaittime=2):\n",
        "    driver2.get(url)\n",
        "    driver3.get(url)\n",
        "    driver4.get(url)\n",
        "    #class_div = 'Directory-content'\n",
        "    #class_div = 'Directory-listItem'\n",
        "    #class_div = 'DirectoryTeaser-address'\n",
        "    #class_div = 'c-address-city'\n",
        "    class_div2 = 'c-AddressRow'    #find address layers - gen 3 address rows - streetaddress \\n city,state zip \\n country but can be 4 e.g. streetaddress \\n suiteno \\n city,state zip \\n country\n",
        "    class_div3 = 'c-address'       #finds total number of locations on the page\n",
        "    class_div4 = \"c-nearby-locations-item\" #finds total number of NEARBY locations on the page\n",
        "    elems2 = WebDriverWait(driver2,webdriverwaittime).until(EC.presence_of_all_elements_located((By.CLASS_NAME,class_div2)))\n",
        "    elems2 = driver2.find_elements_by_class_name(class_div2)\n",
        "    count2 = 0\n",
        "    count2 = len(elems2) \n",
        "    elems3 = WebDriverWait(driver3,webdriverwaittime).until(EC.presence_of_all_elements_located((By.CLASS_NAME,class_div3)))\n",
        "    elems3 = driver3.find_elements_by_class_name(class_div3)\n",
        "    count3=0\n",
        "    count3 = len(elems3)\n",
        "  \n",
        "    flag = check_element_exists_by_class(driver2) #flag identifies if there is a nearby address section on the page\n",
        "    print(\"flag value=\", flag, \"means there are nearby locations section present on webpage\")\n",
        "    if(flag==True):\n",
        "      elems4 = WebDriverWait(driver4,webdriverwaittime).until(EC.presence_of_all_elements_located((By.CLASS_NAME,class_div4)))\n",
        "      elems4 = driver4.find_elements_by_class_name(class_div4)\n",
        "      count4=0\n",
        "      count4 = len(elems4)\n",
        "      print(\"there are \", count4,\" nearby locations present on the page\") # these nearby locations are being double counted in the count2 so we will adjust count2\n",
        "      count2 = (count3-count4)*3 # don't know how many address layers there are 3 or 4, estimating it to be 3 per address \n",
        "\n",
        "    print(\"c-address i.e. no of locations =\", count3, \"c-AddressRow i.e. total address layers =\",count2)\n",
        "    #elems[elem].text does not work always as some info is hidden so will use innerText \n",
        "    #print(\"1st element =\", elems2[0].get_attribute('innerText'))\n",
        "    elem =0\n",
        "    while elem < count2:\n",
        "        address = ''\n",
        "        next_addr=\"\\n\"\n",
        "        elem_cntr =0\n",
        "        while next_addr!=\"\":\n",
        "          next_addr = elems2[elem+elem_cntr].get_attribute('innerText')\n",
        "          print(\"elem =\", elem, \"elem_cntr=\", elem_cntr, \"next_addr =\",next_addr)\n",
        "          address = address + \" \" + next_addr +\"\\n\"\n",
        "          elem_cntr = elem_cntr + 1\n",
        "          if(elem_cntr>=count2):\n",
        "            break\n",
        "        elem = elem + elem_cntr\n",
        "        #print(\"address =\", address)\n",
        "        global df #global makes df confined not only to this function scope but uses global scope\n",
        "        df = df.append({'Address': address}, ignore_index=True)\n",
        "    print(df)\n",
        "    return "
      ],
      "metadata": {
        "id": "8cjv195IRxMq"
      },
      "execution_count": 81,
      "outputs": []
    },
    {
      "cell_type": "code",
      "source": [
        "#to test parse_city_links() - replace brand, store with correct details\n",
        "#parse_store_links('https://locations.brand.com/az/phoenix')\n",
        "#parse_store_links('https://local.brand.com/al/tuscaloosa/store.html')\n",
        "#parse_store_links('https://local.brand.com/ak/anchorage.html')"
      ],
      "metadata": {
        "id": "B4pCsBMDDC05"
      },
      "execution_count": 82,
      "outputs": []
    },
    {
      "cell_type": "code",
      "execution_count": 83,
      "metadata": {
        "id": "3Vs-1koT7Y2Y"
      },
      "outputs": [],
      "source": [
        "#function parse a specific state page and iterates through city specific urls\n",
        "def parse_state_links(url,webdriverwaittime=2):\n",
        "    driver1.get(url)\n",
        "    try:\n",
        "        elems = WebDriverWait(driver1,webdriverwaittime).until(EC.presence_of_all_elements_located((By.CSS_SELECTOR, \".Directory-listItem [href]\")))\n",
        "        elems = driver1.find_elements_by_css_selector(\".Directory-listItem [href]\")\n",
        "        for elem in elems:\n",
        "            link = elem.get_attribute('href') \n",
        "            #print(link)\n",
        "            time.sleep(delay)\n",
        "            parse_city_links(link)\n",
        "    except TimeoutException:\n",
        "        pass\n",
        "    return"
      ]
    },
    {
      "cell_type": "code",
      "source": [
        "#function parses the index/main page and iterates through state specific urls\n",
        "def all_state_page_parse(driver,webdriverwaittime):\n",
        "  elems = WebDriverWait(driver,webdriverwaittime).until(EC.presence_of_all_elements_located((By.CSS_SELECTOR, \".Directory-listItem [href]\")))\n",
        "  elems = driver.find_elements_by_css_selector(\".Directory-listItem [href]\")\n",
        "  for elem in elems:\n",
        "    links = elem.get_attribute('href')\n",
        "    #print(links)\n",
        "    time.sleep(delay)\n",
        "    print (df)\n",
        "    parse_state_links(links)"
      ],
      "metadata": {
        "id": "ky7CRcUQwZvq"
      },
      "execution_count": 84,
      "outputs": []
    },
    {
      "cell_type": "code",
      "source": [
        "#function formats the dataframe to store in an excel  \n",
        "def reformat_address_for_excel(address,final_df):\n",
        "  print(\"before split address=\",address)\n",
        "  split_addr = address.split(\"\\n\")\n",
        "  print(\"new split address array =\",split_addr)\n",
        "  if(0):\n",
        "    pass\n",
        "    #remove empty strings ' ' & '' from a list\n",
        "    #str_list = [\"one\", \" \" , \"Two \", \"three\", \"four\", \"five\", \" \", \"six\",\" \", \" \", \"seven\", \"eight\", \" \", \" \" ,\"Nine\", \"ten\",  \"   \" ]\n",
        "    #str_list = list(filter(lambda string : string.strip(), str_list))\n",
        "    #print(str_list)\n",
        "    #remove empty strings with ' ' only use #split_addr = [i for i in split_addr if i] \n",
        "  split_addr = list(filter(lambda string : string.strip(), split_addr))\n",
        "  print(\"cleanuped address array=\",split_addr) #['street_addr', 'street', 'city zipcode']\n",
        "  len_addr = len(split_addr)\n",
        "  print(len_addr)\n",
        "  street = ' '\n",
        "  city =' '\n",
        "  state =' '\n",
        "  if(len_addr>=3): # case of 4 address layers with a street numbers e.g. #['12542 W.Thomas Road', 'Ste. 101', ' Phinland, AZ 12345']\n",
        "    street = split_addr[1] \n",
        "  else:\n",
        "    pass             #street number will be blank in this case- we have 3 address layers\n",
        "  #split last index on comma assuming gen structure ['Phinland, AZ 12345'] but could be PR structure [' Mayanagar 00903']\n",
        "  city = split_addr[len_addr-1].split(',') \n",
        "  print(city)\n",
        "  #check if split on ',' is a success\n",
        "  if(len(city)==1):\n",
        "    #split not success - could be PR case - [' Mayanagar 00903'] \n",
        "    city = split_addr[len_addr-1].split(' ') \n",
        "    city = list(filter(lambda string : string.strip(), city))\n",
        "    print(\"split not success case, city =\",city)\n",
        "    state = city[0]\n",
        "    zipcode = city[1]\n",
        "    city = city[0] \n",
        "    state = \"PR\" # PR case  \n",
        "    street_addr = split_addr[0]\n",
        "  else:\n",
        "    #split success\n",
        "    state = city[1].split(' ') \n",
        "    zipcode = state[2]\n",
        "    city = city[0]\n",
        "    state = state[1]\n",
        "    street_addr = split_addr[0]\n",
        "  print('Street Address =',street_addr,'Street Number=',street,'City=',city ,'State=',state, 'ZipCode=',zipcode)\n",
        "  final_df = final_df.append({'Street Address':street_addr,'Street Number':street,'City':city,'State':state, 'ZipCode':zipcode},ignore_index=True)\n",
        "  return final_df"
      ],
      "metadata": {
        "id": "UiK3nIZNkZGW"
      },
      "execution_count": 85,
      "outputs": []
    },
    {
      "cell_type": "code",
      "source": [
        "#function creates final data frame in required format to save in excel \n",
        "def create_finaldf(final_df,df):\n",
        "  #to test reformat function\n",
        "  #reformat_address_for_excel(\"12542 Ave Host \\nSte 255 \\nMayanagar 00903\",final_df)\n",
        "  #reformat_address_for_excel(\"12542 W.Thomas Road \\nSte. 101\\nPhinland, AZ 12345\",final_df)\n",
        "  #reformat_address_for_excel(df[\"Address\"][3],final_df)\n",
        "  for i in range (0,len(df)):\n",
        "    print (i)\n",
        "    address = df[\"Address\"][i]\n",
        "    final_df = reformat_address_for_excel(address,final_df)\n",
        "  final_df"
      ],
      "metadata": {
        "id": "eh8TSZ_QFcpZ"
      },
      "execution_count": null,
      "outputs": []
    }
  ],
  "metadata": {
    "kernelspec": {
      "display_name": "Python 3",
      "language": "python",
      "name": "python3"
    },
    "language_info": {
      "codemirror_mode": {
        "name": "ipython",
        "version": 3
      },
      "file_extension": ".py",
      "mimetype": "text/x-python",
      "name": "python",
      "nbconvert_exporter": "python",
      "pygments_lexer": "ipython3",
      "version": "3.8.5"
    },
    "colab": {
      "name": "Extracting address info from website.ipynb",
      "provenance": [],
      "collapsed_sections": []
    }
  },
  "nbformat": 4,
  "nbformat_minor": 0
}