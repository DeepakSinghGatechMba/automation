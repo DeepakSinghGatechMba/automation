{
 "cells": [
  {
   "cell_type": "code",
   "execution_count": null,
   "metadata": {},
   "outputs": [],
   "source": [
    "#!pip install selenium"
   ]
  },
  {
   "cell_type": "code",
   "execution_count": null,
   "metadata": {},
   "outputs": [],
   "source": [
    "from selenium import webdriver\n",
    "from selenium.webdriver.chrome.options import Options\n",
    "import time"
   ]
  },
  {
   "cell_type": "code",
   "execution_count": null,
   "metadata": {},
   "outputs": [],
   "source": [
    "def load_driver():\n",
    "    url = #enter the url for the website\n",
    "    driver = webdriver.Chrome(executable_path='path to chromedriver executable')\n",
    "    driver.get(url)\n",
    "    return (driver)"
   ]
  },
  {
   "cell_type": "code",
   "execution_count": null,
   "metadata": {},
   "outputs": [],
   "source": [
    "#import the required packages \n",
    "from selenium.webdriver.common.by import By\n",
    "from selenium.webdriver.support.ui import WebDriverWait\n",
    "from selenium.webdriver.support import expected_conditions as EC\n",
    "from selenium.common.exceptions import TimeoutException\n",
    "from selenium.common import exceptions\n",
    "from selenium.webdriver.support.ui import Select\n"
   ]
  },
  {
   "cell_type": "code",
   "execution_count": null,
   "metadata": {},
   "outputs": [],
   "source": [
    "#introduce wait for given time, check every 2 sec that given element has loaded in the DOM tree \n",
    "def waitForElementToLoadByType(driver,delay,by_type, elem_id):\n",
    "    wait = WebDriverWait(driver,delay,poll_frequency=2)\n",
    "    element = wait.until(EC.presence_of_element_located((by_type,elem_id)))\n",
    "    return element"
   ]
  },
  {
   "cell_type": "code",
   "execution_count": null,
   "metadata": {},
   "outputs": [],
   "source": [
    "def login_function():\n",
    "\n",
    "    driver = load_driver()\n",
    "    delay = 20\n",
    "    driver.implicitly_wait(delay)\n",
    "    \n",
    "    email_elem = \"userInput\"\n",
    "    next_click = \"login-button\"\n",
    "    pass_elem = \"okta-signin-password\"\n",
    "    login_elem =\"okta-signin-submit\"\n",
    "    \n",
    "    \n",
    "    #send userid\n",
    "    waitForElementToLoadByType(driver,delay,By.ID,email_elem).send_keys(\"enter user name\")\n",
    "\n",
    "    #click next\n",
    "    waitForElementToLoadByType(driver,delay,By.ID,next_click).click()\n",
    "    \n",
    "    #wait\n",
    "    driver.implicitly_wait(delay)\n",
    "\n",
    "    # user name is already entered, provide password\n",
    "    waitForElementToLoadByType(driver,delay,By.ID,pass_elem).send_keys(\"enter password\")\n",
    "    \n",
    "    #wait\n",
    "    driver.implicitly_wait(delay)\n",
    "    \n",
    "    # hit login button, login button may take time to load so wait - trying 10 times\n",
    "    for i in range(0, 10):  \n",
    "        try:  \n",
    "            driver.execute_script('arguments[0].click()', waitForElementToLoadByType(driver,delay,By.ID,login_elem))\n",
    "        except exceptions.StaleElementReferenceException as e:\n",
    "            print(e)\n",
    "            pass \n",
    "    \n",
    "    return driver"
   ]
  },
  {
   "cell_type": "code",
   "execution_count": null,
   "metadata": {},
   "outputs": [],
   "source": [
    "def pass_paramters_to_website(driver, theatre_val,country_val,city_val,zip_val,product_family_val,product_val,index):\n",
    "    \n",
    "    delay = 20\n",
    "    try:\n",
    "        # select ID1 from dropdown \n",
    "        select = Select(waitForElementToLoadByType(driver,delay,By.NAME,\"ID1\"))\n",
    "        select.select_by_value(theatre_val)\n",
    "        \n",
    "        #implicit wait to allow element to load\n",
    "        driver.implicitly_wait(delay)\n",
    "        \n",
    "        #select ID2 from dropdown\n",
    "        select = Select(waitForElementToLoadByType(driver,delay,By.NAME,\"ID2\"))\n",
    "        select.select_by_value(country_val)\n",
    "        \n",
    "        #implicit wait to allow element to load\n",
    "        driver.implicitly_wait(delay)\n",
    "\n",
    "        #enter ID3 in the textbox\n",
    "        waitForElementToLoadByType(driver,delay,By.NAME,\"ID3\").send_keys(city_val)\n",
    "        \n",
    "        #implicit wait to allow element to load\n",
    "        driver.implicitly_wait(delay)\n",
    "\n",
    "        #enter ID4 in the textbox\n",
    "        waitForElementToLoadByType(driver,delay,By.NAME,\"ID4\").send_keys(zip_val)\n",
    "        \n",
    "        #implicit wait to allow element to load\n",
    "        driver.implicitly_wait(delay)\n",
    "\n",
    "        #select ID5 from dropdown\n",
    "        select = Select(waitForElementToLoadByType(driver,delay,By.NAME,\"ID5\"))\n",
    "        select.select_by_value(product_family_val)\n",
    "        \n",
    "        time.sleep(5)\n",
    "\n",
    "        #select ID6 from dropdown\n",
    "        select = Select(waitForElementToLoadByType(driver,delay,By.NAME,\"ID6\"))\n",
    "        select.select_by_value(product_val)\n",
    "        \n",
    "        #click submit button - 2 variations found in relative position, try both\n",
    "        if(i==0):\n",
    "            submit_elem = \"enter XPATH name for submit element\"\n",
    "            element = waitForElementToLoadByType(driver,10,By.XPATH,submit_elem)\n",
    "        else:\n",
    "            submit_elem = \"enter full XPATH for submit element\"\n",
    "            element = waitForElementToLoadByType(driver,20,By.XPATH,submit_elem)\n",
    "        driver.execute_script('arguments[0].click()',element)\n",
    "        time.sleep(5)\n",
    "\n",
    "        #find the availability info Y/N in the table\n",
    "        table_elem = \"enter full XPATH name for table element here\"\n",
    "        availability = waitForElementToLoadByType(driver,delay,By.XPATH,table_elem).text\n",
    "        print (index,\" \",city_val,\" \",zip_val,\" \",availability)\n",
    "      \n",
    "    except :\n",
    "        availability = ' '\n",
    "        print (index,\" \",city_val,\" \",zip_val,\" \",availability)\n",
    "        \n",
    "    return availability"
   ]
  },
  {
   "cell_type": "code",
   "execution_count": null,
   "metadata": {},
   "outputs": [],
   "source": [
    "def clear_paramters_to_website(driver):\n",
    "    \n",
    "    delay = 20\n",
    "\n",
    "    # wait for element to load, clear ID3\n",
    "    waitForElementToLoadByType(driver,delay,By.NAME,\"ID3\").clear()\n",
    "    \n",
    "    #implicit wait\n",
    "    driver.implicitly_wait(delay)\n",
    "\n",
    "    # wait for element to load, clear ID4\n",
    "    waitForElementToLoadByType(driver,delay,By.NAME,\"ID4\").clear()\n",
    "\n",
    "    #implicit wait\n",
    "    driver.implicitly_wait(delay)"
   ]
  },
  {
   "cell_type": "code",
   "execution_count": null,
   "metadata": {
    "scrolled": true
   },
   "outputs": [],
   "source": [
    "## write code to read csv file in a pandas dataframe, pass the params to function in a loop\n",
    "import pandas as pd\n",
    "import numpy as np\n",
    "input_df = pd.read_excel('enter excel file location here', \n",
    "                         sheet_name= \"Locations_BKP\", \n",
    "                         dtype={'S NO':np.int32,'Address':\"string\",'City':\"string\",'State':\"string\",'Country':\"string\",'Zip':\"string\",'Type':\"string\",\"ProductName1\":\"string\",\"ProductName2\":\"string\"})\n",
    "#make a copy of input dataframe\n",
    "input1_df = input_df\n",
    "\n",
    "#only US locations\n",
    "input_df= input_df[input_df['Country'] == \"USA\"]\n",
    "\n",
    "#row index in selected rows are not sequential, they do not start with zero so use reset index\n",
    "input_df= input_df.reset_index(drop=True)\n",
    "print(input_df.head())"
   ]
  },
  {
   "cell_type": "code",
   "execution_count": null,
   "metadata": {},
   "outputs": [],
   "source": [
    "theatre_val = 'enter geogarphical theatre'\n",
    "country_val = 'enter country ID'\n",
    "product_family_val = 'enter product family ID'\n",
    "product_val = 'enter product ID'\n",
    "\n",
    "driver = login_function()"
   ]
  },
  {
   "cell_type": "code",
   "execution_count": null,
   "metadata": {},
   "outputs": [],
   "source": [
    "#solve for i=0 case separately\n",
    "i=0\n",
    "city_val = input_df['City'][i]\n",
    "zip_val = input_df['Zip'][i]\n",
    "ProductName1_service_avail = ' '\n",
    "product_family_val = 'enter product family ID'\n",
    "product_val = 'enter product ID'\n",
    "ProductName1_service_avail = pass_paramters_to_website(driver, theatre_val,country_val,city_val,zip_val,product_family_val,product_val,i)\n",
    "input_df.loc[i,'ProductName1'] = ProductName1_service_avail"
   ]
  },
  {
   "cell_type": "code",
   "execution_count": null,
   "metadata": {},
   "outputs": [],
   "source": [
    "size = len(input_df)\n",
    "#solve for remaining items using a loop for ProductName1\n",
    "for i in range (1,size):\n",
    "    \n",
    "    clear_paramters_to_website(driver)\n",
    "    \n",
    "    time.sleep(5)\n",
    "    \n",
    "    city_val = input_df['City'][i]\n",
    "    zip_val = input_df['Zip'][i]\n",
    "    ProductName1_service_avail = ' '\n",
    "    product_family_val = 'enter product family ID'\n",
    "    product_val = 'enter product ID'\n",
    "    ProductName1_service_avail = pass_paramters_to_website(driver, theatre_val,country_val,city_val,zip_val,product_family_val,product_val,i)\n",
    "    #write availability status to dataframe\n",
    "    input_df.loc[i,'ProductName1'] = ProductName1_service_avail"
   ]
  },
  {
   "cell_type": "code",
   "execution_count": null,
   "metadata": {},
   "outputs": [],
   "source": [
    "input2_df = input_df\n",
    "\n",
    "#solve for ProductName2\n",
    "for i in range (0,size):\n",
    "    \n",
    "        clear_paramters_to_website(driver)\n",
    "\n",
    "        time.sleep(5)\n",
    "\n",
    "        city_val = input_df['City'][i]\n",
    "        zip_val = input_df['Zip'][i]\n",
    "        \n",
    "        ProductName2_service_avail = ' '\n",
    "        product_family_val = 'enter product family ID'\n",
    "        product_val = 'enter product ID'\n",
    "        ProductName2_service_avail = pass_paramters_to_website(driver, theatre_val,country_val,city_val,zip_val,product_family_val,product_val,i)\n",
    "        #write availability status to dataframe\n",
    "        input_df.loc[i,'ProductName2'] = ProductName2_service_avail"
   ]
  },
  {
   "cell_type": "code",
   "execution_count": null,
   "metadata": {},
   "outputs": [],
   "source": [
    "#write the dataframe to a csv file - drive:\\\\directory\\file-name\n",
    "input2_df.to_excel(r'enter path to the file', sheet_name='ScrapedData', index = False)"
   ]
  }
 ],
 "metadata": {
  "kernelspec": {
   "display_name": "Python 3",
   "language": "python",
   "name": "python3"
  },
  "language_info": {
   "codemirror_mode": {
    "name": "ipython",
    "version": 3
   },
   "file_extension": ".py",
   "mimetype": "text/x-python",
   "name": "python",
   "nbconvert_exporter": "python",
   "pygments_lexer": "ipython3",
   "version": "3.8.5"
  }
 },
 "nbformat": 4,
 "nbformat_minor": 4
}
